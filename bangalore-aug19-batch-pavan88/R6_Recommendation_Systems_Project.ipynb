{
 "cells": [
  {
   "cell_type": "code",
   "execution_count": 132,
   "metadata": {},
   "outputs": [],
   "source": [
    "import pandas as pd\n",
    "import numpy as np"
   ]
  },
  {
   "cell_type": "code",
   "execution_count": 75,
   "metadata": {},
   "outputs": [],
   "source": [
    "rating_df = pd.read_csv(\"ratings_Electronics.csv\",names=['UserId','ProductId','Ratings','Timestamp'])"
   ]
  },
  {
   "cell_type": "code",
   "execution_count": 76,
   "metadata": {},
   "outputs": [
    {
     "data": {
      "text/html": [
       "<div>\n",
       "<style scoped>\n",
       "    .dataframe tbody tr th:only-of-type {\n",
       "        vertical-align: middle;\n",
       "    }\n",
       "\n",
       "    .dataframe tbody tr th {\n",
       "        vertical-align: top;\n",
       "    }\n",
       "\n",
       "    .dataframe thead th {\n",
       "        text-align: right;\n",
       "    }\n",
       "</style>\n",
       "<table border=\"1\" class=\"dataframe\">\n",
       "  <thead>\n",
       "    <tr style=\"text-align: right;\">\n",
       "      <th></th>\n",
       "      <th>UserId</th>\n",
       "      <th>ProductId</th>\n",
       "      <th>Ratings</th>\n",
       "      <th>Timestamp</th>\n",
       "    </tr>\n",
       "  </thead>\n",
       "  <tbody>\n",
       "    <tr>\n",
       "      <th>0</th>\n",
       "      <td>AKM1MP6P0OYPR</td>\n",
       "      <td>0132793040</td>\n",
       "      <td>5.0</td>\n",
       "      <td>1365811200</td>\n",
       "    </tr>\n",
       "    <tr>\n",
       "      <th>1</th>\n",
       "      <td>A2CX7LUOHB2NDG</td>\n",
       "      <td>0321732944</td>\n",
       "      <td>5.0</td>\n",
       "      <td>1341100800</td>\n",
       "    </tr>\n",
       "    <tr>\n",
       "      <th>2</th>\n",
       "      <td>A2NWSAGRHCP8N5</td>\n",
       "      <td>0439886341</td>\n",
       "      <td>1.0</td>\n",
       "      <td>1367193600</td>\n",
       "    </tr>\n",
       "    <tr>\n",
       "      <th>3</th>\n",
       "      <td>A2WNBOD3WNDNKT</td>\n",
       "      <td>0439886341</td>\n",
       "      <td>3.0</td>\n",
       "      <td>1374451200</td>\n",
       "    </tr>\n",
       "    <tr>\n",
       "      <th>4</th>\n",
       "      <td>A1GI0U4ZRJA8WN</td>\n",
       "      <td>0439886341</td>\n",
       "      <td>1.0</td>\n",
       "      <td>1334707200</td>\n",
       "    </tr>\n",
       "  </tbody>\n",
       "</table>\n",
       "</div>"
      ],
      "text/plain": [
       "           UserId   ProductId  Ratings   Timestamp\n",
       "0   AKM1MP6P0OYPR  0132793040      5.0  1365811200\n",
       "1  A2CX7LUOHB2NDG  0321732944      5.0  1341100800\n",
       "2  A2NWSAGRHCP8N5  0439886341      1.0  1367193600\n",
       "3  A2WNBOD3WNDNKT  0439886341      3.0  1374451200\n",
       "4  A1GI0U4ZRJA8WN  0439886341      1.0  1334707200"
      ]
     },
     "execution_count": 76,
     "metadata": {},
     "output_type": "execute_result"
    }
   ],
   "source": [
    "rating_df.head()"
   ]
  },
  {
   "cell_type": "code",
   "execution_count": 77,
   "metadata": {},
   "outputs": [
    {
     "data": {
      "text/plain": [
       "(7824482, 4)"
      ]
     },
     "execution_count": 77,
     "metadata": {},
     "output_type": "execute_result"
    }
   ],
   "source": [
    "rating_df.shape"
   ]
  },
  {
   "cell_type": "code",
   "execution_count": 78,
   "metadata": {},
   "outputs": [
    {
     "data": {
      "text/plain": [
       "UserId        object\n",
       "ProductId     object\n",
       "Ratings      float64\n",
       "Timestamp      int64\n",
       "dtype: object"
      ]
     },
     "execution_count": 78,
     "metadata": {},
     "output_type": "execute_result"
    }
   ],
   "source": [
    "rating_df.dtypes"
   ]
  },
  {
   "cell_type": "code",
   "execution_count": 79,
   "metadata": {},
   "outputs": [],
   "source": [
    "rating_df.drop('Timestamp', axis=1, inplace=True)"
   ]
  },
  {
   "cell_type": "code",
   "execution_count": 80,
   "metadata": {},
   "outputs": [
    {
     "data": {
      "text/plain": [
       "UserId       0\n",
       "ProductId    0\n",
       "Ratings      0\n",
       "dtype: int64"
      ]
     },
     "execution_count": 80,
     "metadata": {},
     "output_type": "execute_result"
    }
   ],
   "source": [
    "rating_df.isnull().sum()"
   ]
  },
  {
   "cell_type": "code",
   "execution_count": 81,
   "metadata": {},
   "outputs": [
    {
     "data": {
      "text/plain": [
       "476002"
      ]
     },
     "execution_count": 81,
     "metadata": {},
     "output_type": "execute_result"
    }
   ],
   "source": [
    "rating_df['ProductId'].nunique()"
   ]
  },
  {
   "cell_type": "code",
   "execution_count": 82,
   "metadata": {},
   "outputs": [
    {
     "data": {
      "text/plain": [
       "4201696"
      ]
     },
     "execution_count": 82,
     "metadata": {},
     "output_type": "execute_result"
    }
   ],
   "source": [
    "rating_df['UserId'].nunique()"
   ]
  },
  {
   "cell_type": "code",
   "execution_count": 83,
   "metadata": {},
   "outputs": [
    {
     "data": {
      "text/plain": [
       "array([5., 1., 3., 2., 4.])"
      ]
     },
     "execution_count": 83,
     "metadata": {},
     "output_type": "execute_result"
    }
   ],
   "source": [
    "rating_df['Ratings'].unique()"
   ]
  },
  {
   "cell_type": "code",
   "execution_count": 84,
   "metadata": {},
   "outputs": [
    {
     "data": {
      "text/plain": [
       "5.0    4347541\n",
       "4.0    1485781\n",
       "1.0     901765\n",
       "3.0     633073\n",
       "2.0     456322\n",
       "Name: Ratings, dtype: int64"
      ]
     },
     "execution_count": 84,
     "metadata": {},
     "output_type": "execute_result"
    }
   ],
   "source": [
    "rating_df['Ratings'].value_counts()"
   ]
  },
  {
   "cell_type": "code",
   "execution_count": 85,
   "metadata": {},
   "outputs": [
    {
     "data": {
      "text/html": [
       "<div>\n",
       "<style scoped>\n",
       "    .dataframe tbody tr th:only-of-type {\n",
       "        vertical-align: middle;\n",
       "    }\n",
       "\n",
       "    .dataframe tbody tr th {\n",
       "        vertical-align: top;\n",
       "    }\n",
       "\n",
       "    .dataframe thead th {\n",
       "        text-align: right;\n",
       "    }\n",
       "</style>\n",
       "<table border=\"1\" class=\"dataframe\">\n",
       "  <thead>\n",
       "    <tr style=\"text-align: right;\">\n",
       "      <th></th>\n",
       "      <th>count</th>\n",
       "      <th>mean</th>\n",
       "      <th>std</th>\n",
       "      <th>min</th>\n",
       "      <th>25%</th>\n",
       "      <th>50%</th>\n",
       "      <th>75%</th>\n",
       "      <th>max</th>\n",
       "    </tr>\n",
       "  </thead>\n",
       "  <tbody>\n",
       "    <tr>\n",
       "      <th>Ratings</th>\n",
       "      <td>7824482.0</td>\n",
       "      <td>4.012337</td>\n",
       "      <td>1.38091</td>\n",
       "      <td>1.0</td>\n",
       "      <td>3.0</td>\n",
       "      <td>5.0</td>\n",
       "      <td>5.0</td>\n",
       "      <td>5.0</td>\n",
       "    </tr>\n",
       "  </tbody>\n",
       "</table>\n",
       "</div>"
      ],
      "text/plain": [
       "             count      mean      std  min  25%  50%  75%  max\n",
       "Ratings  7824482.0  4.012337  1.38091  1.0  3.0  5.0  5.0  5.0"
      ]
     },
     "execution_count": 85,
     "metadata": {},
     "output_type": "execute_result"
    }
   ],
   "source": [
    "rating_df.describe().transpose()"
   ]
  },
  {
   "cell_type": "code",
   "execution_count": 86,
   "metadata": {},
   "outputs": [
    {
     "data": {
      "text/plain": [
       "1.0"
      ]
     },
     "execution_count": 86,
     "metadata": {},
     "output_type": "execute_result"
    }
   ],
   "source": [
    "rating_df['Ratings'].min()"
   ]
  },
  {
   "cell_type": "code",
   "execution_count": 87,
   "metadata": {},
   "outputs": [
    {
     "data": {
      "text/plain": [
       "5.0"
      ]
     },
     "execution_count": 87,
     "metadata": {},
     "output_type": "execute_result"
    }
   ],
   "source": [
    "rating_df['Ratings'].max()"
   ]
  },
  {
   "cell_type": "code",
   "execution_count": 88,
   "metadata": {},
   "outputs": [],
   "source": [
    "import matplotlib.pyplot as plt"
   ]
  },
  {
   "cell_type": "code",
   "execution_count": 89,
   "metadata": {},
   "outputs": [
    {
     "data": {
      "text/plain": [
       "Text(0.5, 0, 'Ratings')"
      ]
     },
     "execution_count": 89,
     "metadata": {},
     "output_type": "execute_result"
    },
    {
     "data": {
      "image/png": "[encoded data removed]",
      "text/plain": [
       "<Figure size 432x288 with 1 Axes>"
      ]
     },
     "metadata": {
      "needs_background": "light"
     },
     "output_type": "display_data"
    }
   ],
   "source": [
    "plt.hist(rating_df['Ratings'])\n",
    "plt.title('Ratings Spread')\n",
    "plt.xlabel('Ratings')"
   ]
  },
  {
   "cell_type": "code",
   "execution_count": 90,
   "metadata": {},
   "outputs": [
    {
     "name": "stderr",
     "output_type": "stream",
     "text": [
      "/anaconda3/lib/python3.7/site-packages/seaborn/categorical.py:3666: UserWarning: The `factorplot` function has been renamed to `catplot`. The original name will be removed in a future release. Please update your code. Note that the default `kind` in `factorplot` (`'point'`) has changed `'strip'` in `catplot`.\n",
      "  warnings.warn(msg)\n"
     ]
    },
    {
     "data": {
      "text/plain": [
       "<seaborn.axisgrid.FacetGrid at 0x14e54e2e8>"
      ]
     },
     "execution_count": 90,
     "metadata": {},
     "output_type": "execute_result"
    },
    {
     "data": {
      "image/png": "[encoded data removed]",
      "text/plain": [
       "<Figure size 360x360 with 1 Axes>"
      ]
     },
     "metadata": {
      "needs_background": "light"
     },
     "output_type": "display_data"
    }
   ],
   "source": [
    "import seaborn as sns\n",
    "g = sns.factorplot(\"Ratings\", data=rating_df, kind='count')\n",
    "g.set_ylabels(\"Total number of ratings\")"
   ]
  },
  {
   "cell_type": "code",
   "execution_count": 91,
   "metadata": {},
   "outputs": [
    {
     "name": "stdout",
     "output_type": "stream",
     "text": [
      "Number of unique USERS in Raw data =  4201696\n",
      "Number of unique ITEMS in Raw data =  476002\n"
     ]
    }
   ],
   "source": [
    "print('Number of unique USERS in Raw data = ', rating_df['UserId'].nunique())\n",
    "print('Number of unique ITEMS in Raw data = ', rating_df['ProductId'].nunique())"
   ]
  },
  {
   "cell_type": "code",
   "execution_count": 92,
   "metadata": {},
   "outputs": [
    {
     "data": {
      "text/plain": [
       "B0074BW614    18244\n",
       "B00DR0PDNE    16454\n",
       "B007WTAJTO    14172\n",
       "B0019EHU8G    12285\n",
       "B006GWO5WK    12226\n",
       "B003ELYQGG    11617\n",
       "B003ES5ZUU    10276\n",
       "B007R5YDYA     9907\n",
       "B00622AG6S     9823\n",
       "B0002L5R78     9487\n",
       "Name: ProductId, dtype: int64"
      ]
     },
     "execution_count": 92,
     "metadata": {},
     "output_type": "execute_result"
    }
   ],
   "source": [
    "#Top 10 products purchased (rated)\n",
    "rating_df['ProductId'].value_counts().head(10)"
   ]
  },
  {
   "cell_type": "code",
   "execution_count": 93,
   "metadata": {},
   "outputs": [
    {
     "data": {
      "text/html": [
       "<div>\n",
       "<style scoped>\n",
       "    .dataframe tbody tr th:only-of-type {\n",
       "        vertical-align: middle;\n",
       "    }\n",
       "\n",
       "    .dataframe tbody tr th {\n",
       "        vertical-align: top;\n",
       "    }\n",
       "\n",
       "    .dataframe thead th {\n",
       "        text-align: right;\n",
       "    }\n",
       "</style>\n",
       "<table border=\"1\" class=\"dataframe\">\n",
       "  <thead>\n",
       "    <tr style=\"text-align: right;\">\n",
       "      <th></th>\n",
       "      <th>Ratings</th>\n",
       "    </tr>\n",
       "    <tr>\n",
       "      <th>ProductId</th>\n",
       "      <th></th>\n",
       "    </tr>\n",
       "  </thead>\n",
       "  <tbody>\n",
       "    <tr>\n",
       "      <th>B0074BW614</th>\n",
       "      <td>81943.0</td>\n",
       "    </tr>\n",
       "    <tr>\n",
       "      <th>B00DR0PDNE</th>\n",
       "      <td>64681.0</td>\n",
       "    </tr>\n",
       "    <tr>\n",
       "      <th>B007WTAJTO</th>\n",
       "      <td>62697.0</td>\n",
       "    </tr>\n",
       "    <tr>\n",
       "      <th>B0019EHU8G</th>\n",
       "      <td>58409.0</td>\n",
       "    </tr>\n",
       "    <tr>\n",
       "      <th>B006GWO5WK</th>\n",
       "      <td>52751.0</td>\n",
       "    </tr>\n",
       "    <tr>\n",
       "      <th>B003ELYQGG</th>\n",
       "      <td>51028.0</td>\n",
       "    </tr>\n",
       "    <tr>\n",
       "      <th>B003ES5ZUU</th>\n",
       "      <td>48346.0</td>\n",
       "    </tr>\n",
       "    <tr>\n",
       "      <th>B007R5YDYA</th>\n",
       "      <td>46473.0</td>\n",
       "    </tr>\n",
       "    <tr>\n",
       "      <th>B00622AG6S</th>\n",
       "      <td>43419.0</td>\n",
       "    </tr>\n",
       "    <tr>\n",
       "      <th>B0002L5R78</th>\n",
       "      <td>42204.0</td>\n",
       "    </tr>\n",
       "  </tbody>\n",
       "</table>\n",
       "</div>"
      ],
      "text/plain": [
       "            Ratings\n",
       "ProductId          \n",
       "B0074BW614  81943.0\n",
       "B00DR0PDNE  64681.0\n",
       "B007WTAJTO  62697.0\n",
       "B0019EHU8G  58409.0\n",
       "B006GWO5WK  52751.0\n",
       "B003ELYQGG  51028.0\n",
       "B003ES5ZUU  48346.0\n",
       "B007R5YDYA  46473.0\n",
       "B00622AG6S  43419.0\n",
       "B0002L5R78  42204.0"
      ]
     },
     "execution_count": 93,
     "metadata": {},
     "output_type": "execute_result"
    }
   ],
   "source": [
    "#Top 10 products having highest rating count\n",
    "rating_df.groupby(['ProductId']).sum().sort_values(by='Ratings',ascending=False)[['Ratings']].head(10)"
   ]
  },
  {
   "cell_type": "markdown",
   "metadata": {},
   "source": [
    "### EDA\n",
    "1. No. of Unique users in the dataset = 4201696\n",
    "2. no of unique items in the dataset = 476002\n",
    "3. Ratings are providing to 7824482 records scaling for min rating 1 to max rating 5\n",
    "4. There are no null data or NA or missing values\n",
    "5. From the graph we see most of the ratings are 5 for higest number of the items(products)\n",
    "6. Top 10 products having highest rating(above code)\n",
    "7. Top 10 products purchased and rated (listed above)"
   ]
  },
  {
   "cell_type": "markdown",
   "metadata": {},
   "source": [
    "# Take a subset of the dataset to make it less sparse/ denser."
   ]
  },
  {
   "cell_type": "code",
   "execution_count": 94,
   "metadata": {},
   "outputs": [
    {
     "data": {
      "text/plain": [
       "UserId\n",
       "A5JLAU2ARJ0BO     520\n",
       "ADLVFFE4VBT8      501\n",
       "A3OXHLG6DIBRW8    498\n",
       "A6FIAB28IS79      431\n",
       "A680RUE1FDO8B     406\n",
       "A1ODOGXEYECQQ8    380\n",
       "A36K2N527TXXJN    314\n",
       "A2AY4YUOX2N1BQ    311\n",
       "AWPODHOB4GFWL     308\n",
       "A25C2M3QF9G7OQ    296\n",
       "dtype: int64"
      ]
     },
     "execution_count": 94,
     "metadata": {},
     "output_type": "execute_result"
    }
   ],
   "source": [
    "#taking users who have give minimum 50 ratings\n",
    "most_rated = rating_df.groupby('UserId').size().sort_values(ascending=False)[:10]\n",
    "most_rated"
   ]
  },
  {
   "cell_type": "code",
   "execution_count": 95,
   "metadata": {},
   "outputs": [],
   "source": [
    "counts = rating_df['UserId'].value_counts()\n",
    "amazon_users_50_ratings_df = rating_df[rating_df['UserId'].isin(counts[counts >= 50].index)]"
   ]
  },
  {
   "cell_type": "code",
   "execution_count": 96,
   "metadata": {},
   "outputs": [
    {
     "data": {
      "text/plain": [
       "(125871, 3)"
      ]
     },
     "execution_count": 96,
     "metadata": {},
     "output_type": "execute_result"
    }
   ],
   "source": [
    "amazon_users_50_ratings_df.shape"
   ]
  },
  {
   "cell_type": "code",
   "execution_count": 97,
   "metadata": {},
   "outputs": [
    {
     "name": "stdout",
     "output_type": "stream",
     "text": [
      "Number of users who have rated 50 or more items = 125871\n",
      "Number of unique USERS in final data =  1540\n",
      "Number of unique ITEMS in final data =  48190\n"
     ]
    }
   ],
   "source": [
    "print('Number of users who have rated 50 or more items =', len(amazon_users_50_ratings_df))\n",
    "print('Number of unique USERS in final data = ', amazon_users_50_ratings_df['UserId'].nunique())\n",
    "print('Number of unique ITEMS in final data = ', amazon_users_50_ratings_df['ProductId'].nunique())"
   ]
  },
  {
   "cell_type": "markdown",
   "metadata": {},
   "source": [
    "# Split the data randomly into train and test dataset."
   ]
  },
  {
   "cell_type": "code",
   "execution_count": 108,
   "metadata": {},
   "outputs": [],
   "source": [
    "\n",
    "from sklearn.model_selection import train_test_split\n",
    "from surprise import Dataset  \n",
    "import random \n",
    "from surprise import Reader, Dataset"
   ]
  },
  {
   "cell_type": "code",
   "execution_count": 109,
   "metadata": {},
   "outputs": [],
   "source": [
    "train_set, test_set = train_test_split(amazon_users_50_ratings_df, test_size=.30)"
   ]
  },
  {
   "cell_type": "markdown",
   "metadata": {},
   "source": [
    "# Popularity based model"
   ]
  },
  {
   "cell_type": "code",
   "execution_count": 110,
   "metadata": {},
   "outputs": [
    {
     "data": {
      "text/html": [
       "<div>\n",
       "<style scoped>\n",
       "    .dataframe tbody tr th:only-of-type {\n",
       "        vertical-align: middle;\n",
       "    }\n",
       "\n",
       "    .dataframe tbody tr th {\n",
       "        vertical-align: top;\n",
       "    }\n",
       "\n",
       "    .dataframe thead th {\n",
       "        text-align: right;\n",
       "    }\n",
       "</style>\n",
       "<table border=\"1\" class=\"dataframe\">\n",
       "  <thead>\n",
       "    <tr style=\"text-align: right;\">\n",
       "      <th></th>\n",
       "      <th>Ratings</th>\n",
       "    </tr>\n",
       "    <tr>\n",
       "      <th>ProductId</th>\n",
       "      <th></th>\n",
       "    </tr>\n",
       "  </thead>\n",
       "  <tbody>\n",
       "    <tr>\n",
       "      <th>B0074BW614</th>\n",
       "      <td>81943.0</td>\n",
       "    </tr>\n",
       "    <tr>\n",
       "      <th>B00DR0PDNE</th>\n",
       "      <td>64681.0</td>\n",
       "    </tr>\n",
       "    <tr>\n",
       "      <th>B007WTAJTO</th>\n",
       "      <td>62697.0</td>\n",
       "    </tr>\n",
       "    <tr>\n",
       "      <th>B0019EHU8G</th>\n",
       "      <td>58409.0</td>\n",
       "    </tr>\n",
       "    <tr>\n",
       "      <th>B006GWO5WK</th>\n",
       "      <td>52751.0</td>\n",
       "    </tr>\n",
       "    <tr>\n",
       "      <th>B003ELYQGG</th>\n",
       "      <td>51028.0</td>\n",
       "    </tr>\n",
       "    <tr>\n",
       "      <th>B003ES5ZUU</th>\n",
       "      <td>48346.0</td>\n",
       "    </tr>\n",
       "    <tr>\n",
       "      <th>B007R5YDYA</th>\n",
       "      <td>46473.0</td>\n",
       "    </tr>\n",
       "    <tr>\n",
       "      <th>B00622AG6S</th>\n",
       "      <td>43419.0</td>\n",
       "    </tr>\n",
       "    <tr>\n",
       "      <th>B0002L5R78</th>\n",
       "      <td>42204.0</td>\n",
       "    </tr>\n",
       "  </tbody>\n",
       "</table>\n",
       "</div>"
      ],
      "text/plain": [
       "            Ratings\n",
       "ProductId          \n",
       "B0074BW614  81943.0\n",
       "B00DR0PDNE  64681.0\n",
       "B007WTAJTO  62697.0\n",
       "B0019EHU8G  58409.0\n",
       "B006GWO5WK  52751.0\n",
       "B003ELYQGG  51028.0\n",
       "B003ES5ZUU  48346.0\n",
       "B007R5YDYA  46473.0\n",
       "B00622AG6S  43419.0\n",
       "B0002L5R78  42204.0"
      ]
     },
     "execution_count": 110,
     "metadata": {},
     "output_type": "execute_result"
    }
   ],
   "source": [
    "#All the products in the dataset have ratings (least being 1 and max being 5). Below are the top 10 popular products based on the cummulative ratings\n",
    "rating_df.groupby(['ProductId']).sum().sort_values(by='Ratings',ascending=False)[['Ratings']].head(10)"
   ]
  },
  {
   "cell_type": "code",
   "execution_count": 112,
   "metadata": {},
   "outputs": [
    {
     "data": {
      "text/html": [
       "<div>\n",
       "<style scoped>\n",
       "    .dataframe tbody tr th:only-of-type {\n",
       "        vertical-align: middle;\n",
       "    }\n",
       "\n",
       "    .dataframe tbody tr th {\n",
       "        vertical-align: top;\n",
       "    }\n",
       "\n",
       "    .dataframe thead th {\n",
       "        text-align: right;\n",
       "    }\n",
       "</style>\n",
       "<table border=\"1\" class=\"dataframe\">\n",
       "  <thead>\n",
       "    <tr style=\"text-align: right;\">\n",
       "      <th></th>\n",
       "      <th>UserId</th>\n",
       "      <th>ProductId</th>\n",
       "      <th>Ratings</th>\n",
       "    </tr>\n",
       "  </thead>\n",
       "  <tbody>\n",
       "    <tr>\n",
       "      <th>3180058</th>\n",
       "      <td>AW5JSQCHC2ZJO</td>\n",
       "      <td>B003A5TX82</td>\n",
       "      <td>5.0</td>\n",
       "    </tr>\n",
       "    <tr>\n",
       "      <th>5858251</th>\n",
       "      <td>A34BZM6S9L7QI4</td>\n",
       "      <td>B007PZYBTY</td>\n",
       "      <td>5.0</td>\n",
       "    </tr>\n",
       "    <tr>\n",
       "      <th>263153</th>\n",
       "      <td>A20951I210L0IB</td>\n",
       "      <td>B00008ZLHG</td>\n",
       "      <td>4.0</td>\n",
       "    </tr>\n",
       "    <tr>\n",
       "      <th>900801</th>\n",
       "      <td>A1ROUMJOGO4QMB</td>\n",
       "      <td>B000F1WBUG</td>\n",
       "      <td>1.0</td>\n",
       "    </tr>\n",
       "    <tr>\n",
       "      <th>91543</th>\n",
       "      <td>A1EH2S92FHWZRP</td>\n",
       "      <td>B00005AT7Y</td>\n",
       "      <td>5.0</td>\n",
       "    </tr>\n",
       "  </tbody>\n",
       "</table>\n",
       "</div>"
      ],
      "text/plain": [
       "                 UserId   ProductId  Ratings\n",
       "3180058   AW5JSQCHC2ZJO  B003A5TX82      5.0\n",
       "5858251  A34BZM6S9L7QI4  B007PZYBTY      5.0\n",
       "263153   A20951I210L0IB  B00008ZLHG      4.0\n",
       "900801   A1ROUMJOGO4QMB  B000F1WBUG      1.0\n",
       "91543    A1EH2S92FHWZRP  B00005AT7Y      5.0"
      ]
     },
     "execution_count": 112,
     "metadata": {},
     "output_type": "execute_result"
    }
   ],
   "source": [
    "train_set.head()"
   ]
  },
  {
   "cell_type": "code",
   "execution_count": 115,
   "metadata": {},
   "outputs": [
    {
     "data": {
      "text/html": [
       "<div>\n",
       "<style scoped>\n",
       "    .dataframe tbody tr th:only-of-type {\n",
       "        vertical-align: middle;\n",
       "    }\n",
       "\n",
       "    .dataframe tbody tr th {\n",
       "        vertical-align: top;\n",
       "    }\n",
       "\n",
       "    .dataframe thead th {\n",
       "        text-align: right;\n",
       "    }\n",
       "</style>\n",
       "<table border=\"1\" class=\"dataframe\">\n",
       "  <thead>\n",
       "    <tr style=\"text-align: right;\">\n",
       "      <th></th>\n",
       "      <th>ProductId</th>\n",
       "      <th>score</th>\n",
       "    </tr>\n",
       "  </thead>\n",
       "  <tbody>\n",
       "    <tr>\n",
       "      <th>0</th>\n",
       "      <td>0970407998</td>\n",
       "      <td>1</td>\n",
       "    </tr>\n",
       "    <tr>\n",
       "      <th>1</th>\n",
       "      <td>0972683275</td>\n",
       "      <td>2</td>\n",
       "    </tr>\n",
       "    <tr>\n",
       "      <th>2</th>\n",
       "      <td>1400501466</td>\n",
       "      <td>4</td>\n",
       "    </tr>\n",
       "    <tr>\n",
       "      <th>3</th>\n",
       "      <td>1400501520</td>\n",
       "      <td>1</td>\n",
       "    </tr>\n",
       "    <tr>\n",
       "      <th>4</th>\n",
       "      <td>1400501776</td>\n",
       "      <td>2</td>\n",
       "    </tr>\n",
       "  </tbody>\n",
       "</table>\n",
       "</div>"
      ],
      "text/plain": [
       "    ProductId  score\n",
       "0  0970407998      1\n",
       "1  0972683275      2\n",
       "2  1400501466      4\n",
       "3  1400501520      1\n",
       "4  1400501776      2"
      ]
     },
     "execution_count": 115,
     "metadata": {},
     "output_type": "execute_result"
    }
   ],
   "source": [
    "#Count of user_id for each unique product as recommendation score \n",
    "train_data_grouped_rs = train_set.groupby('ProductId').agg({'UserId': 'count'}).reset_index()\n",
    "train_data_grouped_rs.rename(columns = {'UserId': 'score'},inplace=True)\n",
    "train_data_grouped_rs.head()"
   ]
  },
  {
   "cell_type": "code",
   "execution_count": 117,
   "metadata": {},
   "outputs": [
    {
     "data": {
      "text/html": [
       "<div>\n",
       "<style scoped>\n",
       "    .dataframe tbody tr th:only-of-type {\n",
       "        vertical-align: middle;\n",
       "    }\n",
       "\n",
       "    .dataframe tbody tr th {\n",
       "        vertical-align: top;\n",
       "    }\n",
       "\n",
       "    .dataframe thead th {\n",
       "        text-align: right;\n",
       "    }\n",
       "</style>\n",
       "<table border=\"1\" class=\"dataframe\">\n",
       "  <thead>\n",
       "    <tr style=\"text-align: right;\">\n",
       "      <th></th>\n",
       "      <th>ProductId</th>\n",
       "      <th>score</th>\n",
       "      <th>Rank</th>\n",
       "    </tr>\n",
       "  </thead>\n",
       "  <tbody>\n",
       "    <tr>\n",
       "      <th>30802</th>\n",
       "      <td>B0088CJT4U</td>\n",
       "      <td>151</td>\n",
       "      <td>1.0</td>\n",
       "    </tr>\n",
       "    <tr>\n",
       "      <th>19568</th>\n",
       "      <td>B003ES5ZUU</td>\n",
       "      <td>130</td>\n",
       "      <td>2.0</td>\n",
       "    </tr>\n",
       "    <tr>\n",
       "      <th>30214</th>\n",
       "      <td>B007WTAJTO</td>\n",
       "      <td>112</td>\n",
       "      <td>3.0</td>\n",
       "    </tr>\n",
       "    <tr>\n",
       "      <th>8629</th>\n",
       "      <td>B000N99BBC</td>\n",
       "      <td>111</td>\n",
       "      <td>4.0</td>\n",
       "    </tr>\n",
       "    <tr>\n",
       "      <th>30496</th>\n",
       "      <td>B00829TIEK</td>\n",
       "      <td>105</td>\n",
       "      <td>5.0</td>\n",
       "    </tr>\n",
       "  </tbody>\n",
       "</table>\n",
       "</div>"
      ],
      "text/plain": [
       "        ProductId  score  Rank\n",
       "30802  B0088CJT4U    151   1.0\n",
       "19568  B003ES5ZUU    130   2.0\n",
       "30214  B007WTAJTO    112   3.0\n",
       "8629   B000N99BBC    111   4.0\n",
       "30496  B00829TIEK    105   5.0"
      ]
     },
     "execution_count": 117,
     "metadata": {},
     "output_type": "execute_result"
    }
   ],
   "source": [
    "#Sort the products on recommendation score \n",
    "train_data_sort_rs = train_data_grouped_rs.sort_values(['score', 'ProductId'], ascending = [0,1]) \n",
    "      \n",
    "#Generate a recommendation rank based upon score \n",
    "train_data_sort_rs['Rank'] = train_data_sort_rs['score'].rank(ascending=0, method='first') \n",
    "          \n",
    "#Get the top 5 recommendations \n",
    "popularity_recommendations_rs = train_data_sort_rs.head(5) \n",
    "popularity_recommendations_rs"
   ]
  },
  {
   "cell_type": "code",
   "execution_count": null,
   "metadata": {},
   "outputs": [],
   "source": []
  },
  {
   "cell_type": "code",
   "execution_count": 118,
   "metadata": {},
   "outputs": [],
   "source": [
    "def recommend(user_id):     \n",
    "    user_recommendations_rs = popularity_recommendations_rs \n",
    "          \n",
    "    #Add user_id column for which the recommendations are being generated \n",
    "    user_recommendations_rs['UserId'] = user_id \n",
    "      \n",
    "    #Bring user_id column to the front \n",
    "    cols = user_recommendations_rs.columns.tolist() \n",
    "    cols = cols[-1:] + cols[:-1] \n",
    "    user_recommendations_rs = user_recommendations_rs[cols] \n",
    "          \n",
    "    return user_recommendations_rs"
   ]
  },
  {
   "cell_type": "code",
   "execution_count": 121,
   "metadata": {},
   "outputs": [
    {
     "name": "stdout",
     "output_type": "stream",
     "text": [
      "Here is the recommendation for the userId: 15\n",
      "\n",
      "       user_id   ProductId  score  Rank\n",
      "30802       15  B0088CJT4U    151   1.0\n",
      "19568       15  B003ES5ZUU    130   2.0\n",
      "30214       15  B007WTAJTO    112   3.0\n",
      "8629        15  B000N99BBC    111   4.0\n",
      "30496       15  B00829TIEK    105   5.0\n",
      "\n",
      "\n",
      "Here is the recommendation for the userId: 200\n",
      "\n",
      "       user_id   ProductId  score  Rank\n",
      "30802      200  B0088CJT4U    151   1.0\n",
      "19568      200  B003ES5ZUU    130   2.0\n",
      "30214      200  B007WTAJTO    112   3.0\n",
      "8629       200  B000N99BBC    111   4.0\n",
      "30496      200  B00829TIEK    105   5.0\n",
      "\n",
      "\n",
      "Here is the recommendation for the userId: 875\n",
      "\n",
      "       user_id   ProductId  score  Rank\n",
      "30802      875  B0088CJT4U    151   1.0\n",
      "19568      875  B003ES5ZUU    130   2.0\n",
      "30214      875  B007WTAJTO    112   3.0\n",
      "8629       875  B000N99BBC    111   4.0\n",
      "30496      875  B00829TIEK    105   5.0\n",
      "\n",
      "\n"
     ]
    },
    {
     "name": "stderr",
     "output_type": "stream",
     "text": [
      "/anaconda3/lib/python3.7/site-packages/ipykernel_launcher.py:5: SettingWithCopyWarning: \n",
      "A value is trying to be set on a copy of a slice from a DataFrame.\n",
      "Try using .loc[row_indexer,col_indexer] = value instead\n",
      "\n",
      "See the caveats in the documentation: http://pandas.pydata.org/pandas-docs/stable/indexing.html#indexing-view-versus-copy\n",
      "  \"\"\"\n"
     ]
    }
   ],
   "source": [
    "find_recom = [15,200,875]   # This list is user choice.\n",
    "for i in find_recom:\n",
    "    print(\"Here is the recommendation for the userId: %d\\n\" %(i))\n",
    "    print(recommend(i))    \n",
    "    print(\"\\n\")"
   ]
  },
  {
   "cell_type": "code",
   "execution_count": null,
   "metadata": {},
   "outputs": [],
   "source": [
    "## Observations \n",
    "# Since this is a popularity-based recommender model, recommendations remain the same for all users\n",
    "# We predict the products based on the popularity. It is not personalized to particular user"
   ]
  },
  {
   "cell_type": "markdown",
   "metadata": {},
   "source": [
    "# Collaborative Filtering Model - Matrix Factorization"
   ]
  },
  {
   "cell_type": "code",
   "execution_count": 122,
   "metadata": {},
   "outputs": [],
   "source": []
  },
  {
   "cell_type": "code",
   "execution_count": 128,
   "metadata": {},
   "outputs": [],
   "source": [
    "collab_filtering = pd.concat([train_set, test_set]).reset_index()"
   ]
  },
  {
   "cell_type": "code",
   "execution_count": 127,
   "metadata": {},
   "outputs": [
    {
     "data": {
      "text/html": [
       "<div>\n",
       "<style scoped>\n",
       "    .dataframe tbody tr th:only-of-type {\n",
       "        vertical-align: middle;\n",
       "    }\n",
       "\n",
       "    .dataframe tbody tr th {\n",
       "        vertical-align: top;\n",
       "    }\n",
       "\n",
       "    .dataframe thead th {\n",
       "        text-align: right;\n",
       "    }\n",
       "</style>\n",
       "<table border=\"1\" class=\"dataframe\">\n",
       "  <thead>\n",
       "    <tr style=\"text-align: right;\">\n",
       "      <th></th>\n",
       "      <th>index</th>\n",
       "      <th>UserId</th>\n",
       "      <th>ProductId</th>\n",
       "      <th>Ratings</th>\n",
       "    </tr>\n",
       "  </thead>\n",
       "  <tbody>\n",
       "    <tr>\n",
       "      <th>0</th>\n",
       "      <td>3180058</td>\n",
       "      <td>AW5JSQCHC2ZJO</td>\n",
       "      <td>B003A5TX82</td>\n",
       "      <td>5.0</td>\n",
       "    </tr>\n",
       "    <tr>\n",
       "      <th>1</th>\n",
       "      <td>5858251</td>\n",
       "      <td>A34BZM6S9L7QI4</td>\n",
       "      <td>B007PZYBTY</td>\n",
       "      <td>5.0</td>\n",
       "    </tr>\n",
       "    <tr>\n",
       "      <th>2</th>\n",
       "      <td>263153</td>\n",
       "      <td>A20951I210L0IB</td>\n",
       "      <td>B00008ZLHG</td>\n",
       "      <td>4.0</td>\n",
       "    </tr>\n",
       "    <tr>\n",
       "      <th>3</th>\n",
       "      <td>900801</td>\n",
       "      <td>A1ROUMJOGO4QMB</td>\n",
       "      <td>B000F1WBUG</td>\n",
       "      <td>1.0</td>\n",
       "    </tr>\n",
       "    <tr>\n",
       "      <th>4</th>\n",
       "      <td>91543</td>\n",
       "      <td>A1EH2S92FHWZRP</td>\n",
       "      <td>B00005AT7Y</td>\n",
       "      <td>5.0</td>\n",
       "    </tr>\n",
       "  </tbody>\n",
       "</table>\n",
       "</div>"
      ],
      "text/plain": [
       "     index          UserId   ProductId  Ratings\n",
       "0  3180058   AW5JSQCHC2ZJO  B003A5TX82      5.0\n",
       "1  5858251  A34BZM6S9L7QI4  B007PZYBTY      5.0\n",
       "2   263153  A20951I210L0IB  B00008ZLHG      4.0\n",
       "3   900801  A1ROUMJOGO4QMB  B000F1WBUG      1.0\n",
       "4    91543  A1EH2S92FHWZRP  B00005AT7Y      5.0"
      ]
     },
     "execution_count": 127,
     "metadata": {},
     "output_type": "execute_result"
    }
   ],
   "source": [
    "collab_filtering.head()"
   ]
  },
  {
   "cell_type": "code",
   "execution_count": 126,
   "metadata": {},
   "outputs": [
    {
     "data": {
      "text/html": [
       "<div>\n",
       "<style scoped>\n",
       "    .dataframe tbody tr th:only-of-type {\n",
       "        vertical-align: middle;\n",
       "    }\n",
       "\n",
       "    .dataframe tbody tr th {\n",
       "        vertical-align: top;\n",
       "    }\n",
       "\n",
       "    .dataframe thead th {\n",
       "        text-align: right;\n",
       "    }\n",
       "</style>\n",
       "<table border=\"1\" class=\"dataframe\">\n",
       "  <thead>\n",
       "    <tr style=\"text-align: right;\">\n",
       "      <th></th>\n",
       "      <th>index</th>\n",
       "      <th>UserId</th>\n",
       "      <th>ProductId</th>\n",
       "      <th>Ratings</th>\n",
       "    </tr>\n",
       "  </thead>\n",
       "  <tbody>\n",
       "    <tr>\n",
       "      <th>125866</th>\n",
       "      <td>2476375</td>\n",
       "      <td>A37PV5GMP2ILJC</td>\n",
       "      <td>B00284ADXA</td>\n",
       "      <td>4.0</td>\n",
       "    </tr>\n",
       "    <tr>\n",
       "      <th>125867</th>\n",
       "      <td>4068790</td>\n",
       "      <td>A1ODOGXEYECQQ8</td>\n",
       "      <td>B004FEEZLC</td>\n",
       "      <td>4.0</td>\n",
       "    </tr>\n",
       "    <tr>\n",
       "      <th>125868</th>\n",
       "      <td>5175135</td>\n",
       "      <td>A781ITP3HE2N5</td>\n",
       "      <td>B005SMD5RU</td>\n",
       "      <td>5.0</td>\n",
       "    </tr>\n",
       "    <tr>\n",
       "      <th>125869</th>\n",
       "      <td>5724389</td>\n",
       "      <td>A2JCJJNY43QQIV</td>\n",
       "      <td>B007EPMRKK</td>\n",
       "      <td>4.0</td>\n",
       "    </tr>\n",
       "    <tr>\n",
       "      <th>125870</th>\n",
       "      <td>1641861</td>\n",
       "      <td>A20DZX38KRBIT8</td>\n",
       "      <td>B0013FLTNS</td>\n",
       "      <td>5.0</td>\n",
       "    </tr>\n",
       "  </tbody>\n",
       "</table>\n",
       "</div>"
      ],
      "text/plain": [
       "          index          UserId   ProductId  Ratings\n",
       "125866  2476375  A37PV5GMP2ILJC  B00284ADXA      4.0\n",
       "125867  4068790  A1ODOGXEYECQQ8  B004FEEZLC      4.0\n",
       "125868  5175135   A781ITP3HE2N5  B005SMD5RU      5.0\n",
       "125869  5724389  A2JCJJNY43QQIV  B007EPMRKK      4.0\n",
       "125870  1641861  A20DZX38KRBIT8  B0013FLTNS      5.0"
      ]
     },
     "execution_count": 126,
     "metadata": {},
     "output_type": "execute_result"
    }
   ],
   "source": [
    "collab_filtering.tail()"
   ]
  },
  {
   "cell_type": "code",
   "execution_count": 133,
   "metadata": {},
   "outputs": [
    {
     "name": "stdout",
     "output_type": "stream",
     "text": [
      "(1540, 48190)\n"
     ]
    },
    {
     "data": {
      "text/html": [
       "<div>\n",
       "<style scoped>\n",
       "    .dataframe tbody tr th:only-of-type {\n",
       "        vertical-align: middle;\n",
       "    }\n",
       "\n",
       "    .dataframe tbody tr th {\n",
       "        vertical-align: top;\n",
       "    }\n",
       "\n",
       "    .dataframe thead th {\n",
       "        text-align: right;\n",
       "    }\n",
       "</style>\n",
       "<table border=\"1\" class=\"dataframe\">\n",
       "  <thead>\n",
       "    <tr style=\"text-align: right;\">\n",
       "      <th>ProductId</th>\n",
       "      <th>0594451647</th>\n",
       "      <th>0594481813</th>\n",
       "      <th>0970407998</th>\n",
       "      <th>0972683275</th>\n",
       "      <th>1400501466</th>\n",
       "      <th>1400501520</th>\n",
       "      <th>1400501776</th>\n",
       "      <th>1400532620</th>\n",
       "      <th>1400532655</th>\n",
       "      <th>140053271X</th>\n",
       "      <th>...</th>\n",
       "      <th>B00L5YZCCG</th>\n",
       "      <th>B00L8I6SFY</th>\n",
       "      <th>B00L8QCVL6</th>\n",
       "      <th>B00LA6T0LS</th>\n",
       "      <th>B00LBZ1Z7K</th>\n",
       "      <th>B00LED02VY</th>\n",
       "      <th>B00LGN7Y3G</th>\n",
       "      <th>B00LGQ6HL8</th>\n",
       "      <th>B00LI4ZZO8</th>\n",
       "      <th>B00LKG1MC8</th>\n",
       "    </tr>\n",
       "    <tr>\n",
       "      <th>UserId</th>\n",
       "      <th></th>\n",
       "      <th></th>\n",
       "      <th></th>\n",
       "      <th></th>\n",
       "      <th></th>\n",
       "      <th></th>\n",
       "      <th></th>\n",
       "      <th></th>\n",
       "      <th></th>\n",
       "      <th></th>\n",
       "      <th></th>\n",
       "      <th></th>\n",
       "      <th></th>\n",
       "      <th></th>\n",
       "      <th></th>\n",
       "      <th></th>\n",
       "      <th></th>\n",
       "      <th></th>\n",
       "      <th></th>\n",
       "      <th></th>\n",
       "      <th></th>\n",
       "    </tr>\n",
       "  </thead>\n",
       "  <tbody>\n",
       "    <tr>\n",
       "      <th>A100UD67AHFODS</th>\n",
       "      <td>0.0</td>\n",
       "      <td>0.0</td>\n",
       "      <td>0.0</td>\n",
       "      <td>0.0</td>\n",
       "      <td>0.0</td>\n",
       "      <td>0.0</td>\n",
       "      <td>0.0</td>\n",
       "      <td>0.0</td>\n",
       "      <td>0.0</td>\n",
       "      <td>0.0</td>\n",
       "      <td>...</td>\n",
       "      <td>0.0</td>\n",
       "      <td>0.0</td>\n",
       "      <td>0.0</td>\n",
       "      <td>0.0</td>\n",
       "      <td>0.0</td>\n",
       "      <td>0.0</td>\n",
       "      <td>0.0</td>\n",
       "      <td>0.0</td>\n",
       "      <td>0.0</td>\n",
       "      <td>0.0</td>\n",
       "    </tr>\n",
       "    <tr>\n",
       "      <th>A100WO06OQR8BQ</th>\n",
       "      <td>0.0</td>\n",
       "      <td>0.0</td>\n",
       "      <td>0.0</td>\n",
       "      <td>0.0</td>\n",
       "      <td>0.0</td>\n",
       "      <td>0.0</td>\n",
       "      <td>0.0</td>\n",
       "      <td>0.0</td>\n",
       "      <td>0.0</td>\n",
       "      <td>0.0</td>\n",
       "      <td>...</td>\n",
       "      <td>0.0</td>\n",
       "      <td>0.0</td>\n",
       "      <td>0.0</td>\n",
       "      <td>0.0</td>\n",
       "      <td>0.0</td>\n",
       "      <td>0.0</td>\n",
       "      <td>0.0</td>\n",
       "      <td>0.0</td>\n",
       "      <td>0.0</td>\n",
       "      <td>0.0</td>\n",
       "    </tr>\n",
       "    <tr>\n",
       "      <th>A105S56ODHGJEK</th>\n",
       "      <td>0.0</td>\n",
       "      <td>0.0</td>\n",
       "      <td>0.0</td>\n",
       "      <td>0.0</td>\n",
       "      <td>0.0</td>\n",
       "      <td>0.0</td>\n",
       "      <td>0.0</td>\n",
       "      <td>0.0</td>\n",
       "      <td>0.0</td>\n",
       "      <td>0.0</td>\n",
       "      <td>...</td>\n",
       "      <td>0.0</td>\n",
       "      <td>0.0</td>\n",
       "      <td>0.0</td>\n",
       "      <td>0.0</td>\n",
       "      <td>0.0</td>\n",
       "      <td>0.0</td>\n",
       "      <td>0.0</td>\n",
       "      <td>0.0</td>\n",
       "      <td>0.0</td>\n",
       "      <td>0.0</td>\n",
       "    </tr>\n",
       "    <tr>\n",
       "      <th>A105TOJ6LTVMBG</th>\n",
       "      <td>0.0</td>\n",
       "      <td>0.0</td>\n",
       "      <td>0.0</td>\n",
       "      <td>0.0</td>\n",
       "      <td>0.0</td>\n",
       "      <td>0.0</td>\n",
       "      <td>0.0</td>\n",
       "      <td>0.0</td>\n",
       "      <td>0.0</td>\n",
       "      <td>0.0</td>\n",
       "      <td>...</td>\n",
       "      <td>0.0</td>\n",
       "      <td>0.0</td>\n",
       "      <td>0.0</td>\n",
       "      <td>0.0</td>\n",
       "      <td>0.0</td>\n",
       "      <td>0.0</td>\n",
       "      <td>0.0</td>\n",
       "      <td>0.0</td>\n",
       "      <td>0.0</td>\n",
       "      <td>0.0</td>\n",
       "    </tr>\n",
       "    <tr>\n",
       "      <th>A10AFVU66A79Y1</th>\n",
       "      <td>0.0</td>\n",
       "      <td>0.0</td>\n",
       "      <td>0.0</td>\n",
       "      <td>0.0</td>\n",
       "      <td>0.0</td>\n",
       "      <td>0.0</td>\n",
       "      <td>0.0</td>\n",
       "      <td>0.0</td>\n",
       "      <td>0.0</td>\n",
       "      <td>0.0</td>\n",
       "      <td>...</td>\n",
       "      <td>0.0</td>\n",
       "      <td>0.0</td>\n",
       "      <td>0.0</td>\n",
       "      <td>0.0</td>\n",
       "      <td>0.0</td>\n",
       "      <td>0.0</td>\n",
       "      <td>0.0</td>\n",
       "      <td>0.0</td>\n",
       "      <td>0.0</td>\n",
       "      <td>0.0</td>\n",
       "    </tr>\n",
       "  </tbody>\n",
       "</table>\n",
       "<p>5 rows × 48190 columns</p>\n",
       "</div>"
      ],
      "text/plain": [
       "ProductId       0594451647  0594481813  0970407998  0972683275  1400501466  \\\n",
       "UserId                                                                       \n",
       "A100UD67AHFODS         0.0         0.0         0.0         0.0         0.0   \n",
       "A100WO06OQR8BQ         0.0         0.0         0.0         0.0         0.0   \n",
       "A105S56ODHGJEK         0.0         0.0         0.0         0.0         0.0   \n",
       "A105TOJ6LTVMBG         0.0         0.0         0.0         0.0         0.0   \n",
       "A10AFVU66A79Y1         0.0         0.0         0.0         0.0         0.0   \n",
       "\n",
       "ProductId       1400501520  1400501776  1400532620  1400532655  140053271X  \\\n",
       "UserId                                                                       \n",
       "A100UD67AHFODS         0.0         0.0         0.0         0.0         0.0   \n",
       "A100WO06OQR8BQ         0.0         0.0         0.0         0.0         0.0   \n",
       "A105S56ODHGJEK         0.0         0.0         0.0         0.0         0.0   \n",
       "A105TOJ6LTVMBG         0.0         0.0         0.0         0.0         0.0   \n",
       "A10AFVU66A79Y1         0.0         0.0         0.0         0.0         0.0   \n",
       "\n",
       "ProductId       ...  B00L5YZCCG  B00L8I6SFY  B00L8QCVL6  B00LA6T0LS  \\\n",
       "UserId          ...                                                   \n",
       "A100UD67AHFODS  ...         0.0         0.0         0.0         0.0   \n",
       "A100WO06OQR8BQ  ...         0.0         0.0         0.0         0.0   \n",
       "A105S56ODHGJEK  ...         0.0         0.0         0.0         0.0   \n",
       "A105TOJ6LTVMBG  ...         0.0         0.0         0.0         0.0   \n",
       "A10AFVU66A79Y1  ...         0.0         0.0         0.0         0.0   \n",
       "\n",
       "ProductId       B00LBZ1Z7K  B00LED02VY  B00LGN7Y3G  B00LGQ6HL8  B00LI4ZZO8  \\\n",
       "UserId                                                                       \n",
       "A100UD67AHFODS         0.0         0.0         0.0         0.0         0.0   \n",
       "A100WO06OQR8BQ         0.0         0.0         0.0         0.0         0.0   \n",
       "A105S56ODHGJEK         0.0         0.0         0.0         0.0         0.0   \n",
       "A105TOJ6LTVMBG         0.0         0.0         0.0         0.0         0.0   \n",
       "A10AFVU66A79Y1         0.0         0.0         0.0         0.0         0.0   \n",
       "\n",
       "ProductId       B00LKG1MC8  \n",
       "UserId                      \n",
       "A100UD67AHFODS         0.0  \n",
       "A100WO06OQR8BQ         0.0  \n",
       "A105S56ODHGJEK         0.0  \n",
       "A105TOJ6LTVMBG         0.0  \n",
       "A10AFVU66A79Y1         0.0  \n",
       "\n",
       "[5 rows x 48190 columns]"
      ]
     },
     "execution_count": 133,
     "metadata": {},
     "output_type": "execute_result"
    }
   ],
   "source": [
    "#User-based Collaborative Filtering\n",
    "# Matrix with row per 'user' and column per 'item' \n",
    "pivot_df_rs = collab_filtering.pivot(index = 'UserId', columns ='ProductId', values = 'Ratings').fillna(0)\n",
    "print(pivot_df_rs.shape)\n",
    "pivot_df_rs.head()"
   ]
  },
  {
   "cell_type": "code",
   "execution_count": 134,
   "metadata": {},
   "outputs": [
    {
     "data": {
      "text/html": [
       "<div>\n",
       "<style scoped>\n",
       "    .dataframe tbody tr th:only-of-type {\n",
       "        vertical-align: middle;\n",
       "    }\n",
       "\n",
       "    .dataframe tbody tr th {\n",
       "        vertical-align: top;\n",
       "    }\n",
       "\n",
       "    .dataframe thead th {\n",
       "        text-align: right;\n",
       "    }\n",
       "</style>\n",
       "<table border=\"1\" class=\"dataframe\">\n",
       "  <thead>\n",
       "    <tr style=\"text-align: right;\">\n",
       "      <th>ProductId</th>\n",
       "      <th>0594451647</th>\n",
       "      <th>0594481813</th>\n",
       "      <th>0970407998</th>\n",
       "      <th>0972683275</th>\n",
       "      <th>1400501466</th>\n",
       "      <th>1400501520</th>\n",
       "      <th>1400501776</th>\n",
       "      <th>1400532620</th>\n",
       "      <th>1400532655</th>\n",
       "      <th>140053271X</th>\n",
       "      <th>...</th>\n",
       "      <th>B00L8I6SFY</th>\n",
       "      <th>B00L8QCVL6</th>\n",
       "      <th>B00LA6T0LS</th>\n",
       "      <th>B00LBZ1Z7K</th>\n",
       "      <th>B00LED02VY</th>\n",
       "      <th>B00LGN7Y3G</th>\n",
       "      <th>B00LGQ6HL8</th>\n",
       "      <th>B00LI4ZZO8</th>\n",
       "      <th>B00LKG1MC8</th>\n",
       "      <th>user_index</th>\n",
       "    </tr>\n",
       "    <tr>\n",
       "      <th>UserId</th>\n",
       "      <th></th>\n",
       "      <th></th>\n",
       "      <th></th>\n",
       "      <th></th>\n",
       "      <th></th>\n",
       "      <th></th>\n",
       "      <th></th>\n",
       "      <th></th>\n",
       "      <th></th>\n",
       "      <th></th>\n",
       "      <th></th>\n",
       "      <th></th>\n",
       "      <th></th>\n",
       "      <th></th>\n",
       "      <th></th>\n",
       "      <th></th>\n",
       "      <th></th>\n",
       "      <th></th>\n",
       "      <th></th>\n",
       "      <th></th>\n",
       "      <th></th>\n",
       "    </tr>\n",
       "  </thead>\n",
       "  <tbody>\n",
       "    <tr>\n",
       "      <th>A100UD67AHFODS</th>\n",
       "      <td>0.0</td>\n",
       "      <td>0.0</td>\n",
       "      <td>0.0</td>\n",
       "      <td>0.0</td>\n",
       "      <td>0.0</td>\n",
       "      <td>0.0</td>\n",
       "      <td>0.0</td>\n",
       "      <td>0.0</td>\n",
       "      <td>0.0</td>\n",
       "      <td>0.0</td>\n",
       "      <td>...</td>\n",
       "      <td>0.0</td>\n",
       "      <td>0.0</td>\n",
       "      <td>0.0</td>\n",
       "      <td>0.0</td>\n",
       "      <td>0.0</td>\n",
       "      <td>0.0</td>\n",
       "      <td>0.0</td>\n",
       "      <td>0.0</td>\n",
       "      <td>0.0</td>\n",
       "      <td>0</td>\n",
       "    </tr>\n",
       "    <tr>\n",
       "      <th>A100WO06OQR8BQ</th>\n",
       "      <td>0.0</td>\n",
       "      <td>0.0</td>\n",
       "      <td>0.0</td>\n",
       "      <td>0.0</td>\n",
       "      <td>0.0</td>\n",
       "      <td>0.0</td>\n",
       "      <td>0.0</td>\n",
       "      <td>0.0</td>\n",
       "      <td>0.0</td>\n",
       "      <td>0.0</td>\n",
       "      <td>...</td>\n",
       "      <td>0.0</td>\n",
       "      <td>0.0</td>\n",
       "      <td>0.0</td>\n",
       "      <td>0.0</td>\n",
       "      <td>0.0</td>\n",
       "      <td>0.0</td>\n",
       "      <td>0.0</td>\n",
       "      <td>0.0</td>\n",
       "      <td>0.0</td>\n",
       "      <td>1</td>\n",
       "    </tr>\n",
       "    <tr>\n",
       "      <th>A105S56ODHGJEK</th>\n",
       "      <td>0.0</td>\n",
       "      <td>0.0</td>\n",
       "      <td>0.0</td>\n",
       "      <td>0.0</td>\n",
       "      <td>0.0</td>\n",
       "      <td>0.0</td>\n",
       "      <td>0.0</td>\n",
       "      <td>0.0</td>\n",
       "      <td>0.0</td>\n",
       "      <td>0.0</td>\n",
       "      <td>...</td>\n",
       "      <td>0.0</td>\n",
       "      <td>0.0</td>\n",
       "      <td>0.0</td>\n",
       "      <td>0.0</td>\n",
       "      <td>0.0</td>\n",
       "      <td>0.0</td>\n",
       "      <td>0.0</td>\n",
       "      <td>0.0</td>\n",
       "      <td>0.0</td>\n",
       "      <td>2</td>\n",
       "    </tr>\n",
       "    <tr>\n",
       "      <th>A105TOJ6LTVMBG</th>\n",
       "      <td>0.0</td>\n",
       "      <td>0.0</td>\n",
       "      <td>0.0</td>\n",
       "      <td>0.0</td>\n",
       "      <td>0.0</td>\n",
       "      <td>0.0</td>\n",
       "      <td>0.0</td>\n",
       "      <td>0.0</td>\n",
       "      <td>0.0</td>\n",
       "      <td>0.0</td>\n",
       "      <td>...</td>\n",
       "      <td>0.0</td>\n",
       "      <td>0.0</td>\n",
       "      <td>0.0</td>\n",
       "      <td>0.0</td>\n",
       "      <td>0.0</td>\n",
       "      <td>0.0</td>\n",
       "      <td>0.0</td>\n",
       "      <td>0.0</td>\n",
       "      <td>0.0</td>\n",
       "      <td>3</td>\n",
       "    </tr>\n",
       "    <tr>\n",
       "      <th>A10AFVU66A79Y1</th>\n",
       "      <td>0.0</td>\n",
       "      <td>0.0</td>\n",
       "      <td>0.0</td>\n",
       "      <td>0.0</td>\n",
       "      <td>0.0</td>\n",
       "      <td>0.0</td>\n",
       "      <td>0.0</td>\n",
       "      <td>0.0</td>\n",
       "      <td>0.0</td>\n",
       "      <td>0.0</td>\n",
       "      <td>...</td>\n",
       "      <td>0.0</td>\n",
       "      <td>0.0</td>\n",
       "      <td>0.0</td>\n",
       "      <td>0.0</td>\n",
       "      <td>0.0</td>\n",
       "      <td>0.0</td>\n",
       "      <td>0.0</td>\n",
       "      <td>0.0</td>\n",
       "      <td>0.0</td>\n",
       "      <td>4</td>\n",
       "    </tr>\n",
       "  </tbody>\n",
       "</table>\n",
       "<p>5 rows × 48191 columns</p>\n",
       "</div>"
      ],
      "text/plain": [
       "ProductId       0594451647  0594481813  0970407998  0972683275  1400501466  \\\n",
       "UserId                                                                       \n",
       "A100UD67AHFODS         0.0         0.0         0.0         0.0         0.0   \n",
       "A100WO06OQR8BQ         0.0         0.0         0.0         0.0         0.0   \n",
       "A105S56ODHGJEK         0.0         0.0         0.0         0.0         0.0   \n",
       "A105TOJ6LTVMBG         0.0         0.0         0.0         0.0         0.0   \n",
       "A10AFVU66A79Y1         0.0         0.0         0.0         0.0         0.0   \n",
       "\n",
       "ProductId       1400501520  1400501776  1400532620  1400532655  140053271X  \\\n",
       "UserId                                                                       \n",
       "A100UD67AHFODS         0.0         0.0         0.0         0.0         0.0   \n",
       "A100WO06OQR8BQ         0.0         0.0         0.0         0.0         0.0   \n",
       "A105S56ODHGJEK         0.0         0.0         0.0         0.0         0.0   \n",
       "A105TOJ6LTVMBG         0.0         0.0         0.0         0.0         0.0   \n",
       "A10AFVU66A79Y1         0.0         0.0         0.0         0.0         0.0   \n",
       "\n",
       "ProductId       ...  B00L8I6SFY  B00L8QCVL6  B00LA6T0LS  B00LBZ1Z7K  \\\n",
       "UserId          ...                                                   \n",
       "A100UD67AHFODS  ...         0.0         0.0         0.0         0.0   \n",
       "A100WO06OQR8BQ  ...         0.0         0.0         0.0         0.0   \n",
       "A105S56ODHGJEK  ...         0.0         0.0         0.0         0.0   \n",
       "A105TOJ6LTVMBG  ...         0.0         0.0         0.0         0.0   \n",
       "A10AFVU66A79Y1  ...         0.0         0.0         0.0         0.0   \n",
       "\n",
       "ProductId       B00LED02VY  B00LGN7Y3G  B00LGQ6HL8  B00LI4ZZO8  B00LKG1MC8  \\\n",
       "UserId                                                                       \n",
       "A100UD67AHFODS         0.0         0.0         0.0         0.0         0.0   \n",
       "A100WO06OQR8BQ         0.0         0.0         0.0         0.0         0.0   \n",
       "A105S56ODHGJEK         0.0         0.0         0.0         0.0         0.0   \n",
       "A105TOJ6LTVMBG         0.0         0.0         0.0         0.0         0.0   \n",
       "A10AFVU66A79Y1         0.0         0.0         0.0         0.0         0.0   \n",
       "\n",
       "ProductId       user_index  \n",
       "UserId                      \n",
       "A100UD67AHFODS           0  \n",
       "A100WO06OQR8BQ           1  \n",
       "A105S56ODHGJEK           2  \n",
       "A105TOJ6LTVMBG           3  \n",
       "A10AFVU66A79Y1           4  \n",
       "\n",
       "[5 rows x 48191 columns]"
      ]
     },
     "execution_count": 134,
     "metadata": {},
     "output_type": "execute_result"
    }
   ],
   "source": [
    "\n",
    "pivot_df_rs['user_index'] = np.arange(0, pivot_df_rs.shape[0], 1)\n",
    "pivot_df_rs.head()"
   ]
  },
  {
   "cell_type": "code",
   "execution_count": 135,
   "metadata": {},
   "outputs": [],
   "source": [
    "\n",
    "pivot_df_rs.set_index(['user_index'], inplace=True)"
   ]
  },
  {
   "cell_type": "code",
   "execution_count": 136,
   "metadata": {},
   "outputs": [],
   "source": [
    "from scipy.sparse.linalg import svds\n",
    "# Singular Value Decomposition\n",
    "U, sigma, Vt = svds(pivot_df_rs, k = 50)\n",
    "# Construct diagonal array in SVD\n",
    "sigma = np.diag(sigma)"
   ]
  },
  {
   "cell_type": "code",
   "execution_count": 137,
   "metadata": {},
   "outputs": [
    {
     "data": {
      "text/html": [
       "<div>\n",
       "<style scoped>\n",
       "    .dataframe tbody tr th:only-of-type {\n",
       "        vertical-align: middle;\n",
       "    }\n",
       "\n",
       "    .dataframe tbody tr th {\n",
       "        vertical-align: top;\n",
       "    }\n",
       "\n",
       "    .dataframe thead th {\n",
       "        text-align: right;\n",
       "    }\n",
       "</style>\n",
       "<table border=\"1\" class=\"dataframe\">\n",
       "  <thead>\n",
       "    <tr style=\"text-align: right;\">\n",
       "      <th>ProductId</th>\n",
       "      <th>0594451647</th>\n",
       "      <th>0594481813</th>\n",
       "      <th>0970407998</th>\n",
       "      <th>0972683275</th>\n",
       "      <th>1400501466</th>\n",
       "      <th>1400501520</th>\n",
       "      <th>1400501776</th>\n",
       "      <th>1400532620</th>\n",
       "      <th>1400532655</th>\n",
       "      <th>140053271X</th>\n",
       "      <th>...</th>\n",
       "      <th>B00L5YZCCG</th>\n",
       "      <th>B00L8I6SFY</th>\n",
       "      <th>B00L8QCVL6</th>\n",
       "      <th>B00LA6T0LS</th>\n",
       "      <th>B00LBZ1Z7K</th>\n",
       "      <th>B00LED02VY</th>\n",
       "      <th>B00LGN7Y3G</th>\n",
       "      <th>B00LGQ6HL8</th>\n",
       "      <th>B00LI4ZZO8</th>\n",
       "      <th>B00LKG1MC8</th>\n",
       "    </tr>\n",
       "  </thead>\n",
       "  <tbody>\n",
       "    <tr>\n",
       "      <th>0</th>\n",
       "      <td>0.005086</td>\n",
       "      <td>0.002178</td>\n",
       "      <td>0.003668</td>\n",
       "      <td>-0.040843</td>\n",
       "      <td>0.009640</td>\n",
       "      <td>0.006808</td>\n",
       "      <td>0.020659</td>\n",
       "      <td>0.000649</td>\n",
       "      <td>0.020331</td>\n",
       "      <td>0.005633</td>\n",
       "      <td>...</td>\n",
       "      <td>0.000238</td>\n",
       "      <td>-0.061477</td>\n",
       "      <td>0.001214</td>\n",
       "      <td>-0.123433</td>\n",
       "      <td>0.028490</td>\n",
       "      <td>0.016109</td>\n",
       "      <td>0.002855</td>\n",
       "      <td>-0.174568</td>\n",
       "      <td>0.011367</td>\n",
       "      <td>-0.012997</td>\n",
       "    </tr>\n",
       "    <tr>\n",
       "      <th>1</th>\n",
       "      <td>0.002286</td>\n",
       "      <td>-0.010898</td>\n",
       "      <td>-0.000724</td>\n",
       "      <td>0.130259</td>\n",
       "      <td>0.007506</td>\n",
       "      <td>-0.003350</td>\n",
       "      <td>0.063711</td>\n",
       "      <td>-0.000674</td>\n",
       "      <td>0.016111</td>\n",
       "      <td>-0.002433</td>\n",
       "      <td>...</td>\n",
       "      <td>-0.000038</td>\n",
       "      <td>0.013766</td>\n",
       "      <td>0.001473</td>\n",
       "      <td>0.025588</td>\n",
       "      <td>-0.042103</td>\n",
       "      <td>0.004251</td>\n",
       "      <td>0.002177</td>\n",
       "      <td>-0.024362</td>\n",
       "      <td>-0.014765</td>\n",
       "      <td>0.038570</td>\n",
       "    </tr>\n",
       "    <tr>\n",
       "      <th>2</th>\n",
       "      <td>-0.001655</td>\n",
       "      <td>-0.002675</td>\n",
       "      <td>-0.007355</td>\n",
       "      <td>0.007264</td>\n",
       "      <td>0.005152</td>\n",
       "      <td>-0.003986</td>\n",
       "      <td>-0.003480</td>\n",
       "      <td>0.006961</td>\n",
       "      <td>-0.006606</td>\n",
       "      <td>-0.002719</td>\n",
       "      <td>...</td>\n",
       "      <td>-0.001708</td>\n",
       "      <td>-0.051040</td>\n",
       "      <td>0.000325</td>\n",
       "      <td>-0.054867</td>\n",
       "      <td>0.017870</td>\n",
       "      <td>-0.004996</td>\n",
       "      <td>-0.002426</td>\n",
       "      <td>0.083928</td>\n",
       "      <td>-0.112205</td>\n",
       "      <td>0.005964</td>\n",
       "    </tr>\n",
       "    <tr>\n",
       "      <th>3</th>\n",
       "      <td>0.001856</td>\n",
       "      <td>0.011019</td>\n",
       "      <td>-0.005910</td>\n",
       "      <td>-0.014134</td>\n",
       "      <td>0.000179</td>\n",
       "      <td>0.001877</td>\n",
       "      <td>-0.005391</td>\n",
       "      <td>-0.001709</td>\n",
       "      <td>0.004968</td>\n",
       "      <td>0.001402</td>\n",
       "      <td>...</td>\n",
       "      <td>0.000582</td>\n",
       "      <td>-0.009326</td>\n",
       "      <td>-0.000465</td>\n",
       "      <td>-0.048315</td>\n",
       "      <td>0.023302</td>\n",
       "      <td>0.006790</td>\n",
       "      <td>0.003380</td>\n",
       "      <td>0.005460</td>\n",
       "      <td>-0.015263</td>\n",
       "      <td>-0.025996</td>\n",
       "    </tr>\n",
       "    <tr>\n",
       "      <th>4</th>\n",
       "      <td>0.001115</td>\n",
       "      <td>-0.002670</td>\n",
       "      <td>0.011018</td>\n",
       "      <td>0.014434</td>\n",
       "      <td>0.010319</td>\n",
       "      <td>0.006002</td>\n",
       "      <td>0.017151</td>\n",
       "      <td>0.003726</td>\n",
       "      <td>0.001404</td>\n",
       "      <td>0.005645</td>\n",
       "      <td>...</td>\n",
       "      <td>0.000207</td>\n",
       "      <td>0.023761</td>\n",
       "      <td>0.000747</td>\n",
       "      <td>-0.019347</td>\n",
       "      <td>-0.012749</td>\n",
       "      <td>0.001026</td>\n",
       "      <td>0.001364</td>\n",
       "      <td>-0.020580</td>\n",
       "      <td>0.011828</td>\n",
       "      <td>0.012770</td>\n",
       "    </tr>\n",
       "  </tbody>\n",
       "</table>\n",
       "<p>5 rows × 48190 columns</p>\n",
       "</div>"
      ],
      "text/plain": [
       "ProductId  0594451647  0594481813  0970407998  0972683275  1400501466  \\\n",
       "0            0.005086    0.002178    0.003668   -0.040843    0.009640   \n",
       "1            0.002286   -0.010898   -0.000724    0.130259    0.007506   \n",
       "2           -0.001655   -0.002675   -0.007355    0.007264    0.005152   \n",
       "3            0.001856    0.011019   -0.005910   -0.014134    0.000179   \n",
       "4            0.001115   -0.002670    0.011018    0.014434    0.010319   \n",
       "\n",
       "ProductId  1400501520  1400501776  1400532620  1400532655  140053271X  ...  \\\n",
       "0            0.006808    0.020659    0.000649    0.020331    0.005633  ...   \n",
       "1           -0.003350    0.063711   -0.000674    0.016111   -0.002433  ...   \n",
       "2           -0.003986   -0.003480    0.006961   -0.006606   -0.002719  ...   \n",
       "3            0.001877   -0.005391   -0.001709    0.004968    0.001402  ...   \n",
       "4            0.006002    0.017151    0.003726    0.001404    0.005645  ...   \n",
       "\n",
       "ProductId  B00L5YZCCG  B00L8I6SFY  B00L8QCVL6  B00LA6T0LS  B00LBZ1Z7K  \\\n",
       "0            0.000238   -0.061477    0.001214   -0.123433    0.028490   \n",
       "1           -0.000038    0.013766    0.001473    0.025588   -0.042103   \n",
       "2           -0.001708   -0.051040    0.000325   -0.054867    0.017870   \n",
       "3            0.000582   -0.009326   -0.000465   -0.048315    0.023302   \n",
       "4            0.000207    0.023761    0.000747   -0.019347   -0.012749   \n",
       "\n",
       "ProductId  B00LED02VY  B00LGN7Y3G  B00LGQ6HL8  B00LI4ZZO8  B00LKG1MC8  \n",
       "0            0.016109    0.002855   -0.174568    0.011367   -0.012997  \n",
       "1            0.004251    0.002177   -0.024362   -0.014765    0.038570  \n",
       "2           -0.004996   -0.002426    0.083928   -0.112205    0.005964  \n",
       "3            0.006790    0.003380    0.005460   -0.015263   -0.025996  \n",
       "4            0.001026    0.001364   -0.020580    0.011828    0.012770  \n",
       "\n",
       "[5 rows x 48190 columns]"
      ]
     },
     "execution_count": 137,
     "metadata": {},
     "output_type": "execute_result"
    }
   ],
   "source": [
    "all_user_predicted_ratings = np.dot(np.dot(U, sigma), Vt) \n",
    "\n",
    "# Predicted ratings\n",
    "preds_df_rs = pd.DataFrame(all_user_predicted_ratings, columns = pivot_df_rs.columns)\n",
    "preds_df_rs.head()"
   ]
  },
  {
   "cell_type": "code",
   "execution_count": 138,
   "metadata": {},
   "outputs": [],
   "source": [
    "# Recommend the items with the highest predicted ratings\n",
    "\n",
    "def recommend_items(userID, pivot_df_rs, preds_df_rs, num_recommendations):\n",
    "      \n",
    "    user_idx = userID-1 # index starts at 0\n",
    "    \n",
    "    # Get and sort the user's ratings\n",
    "    sorted_user_ratings = pivot_df_rs.iloc[user_idx].sort_values(ascending=False)\n",
    "    #sorted_user_ratings\n",
    "    sorted_user_predictions = preds_df_rs.iloc[user_idx].sort_values(ascending=False)\n",
    "    #sorted_user_predictions\n",
    "\n",
    "    temp = pd.concat([sorted_user_ratings, sorted_user_predictions], axis=1)\n",
    "    temp.index.name = 'Recommended Items'\n",
    "    temp.columns = ['user_ratings', 'user_predictions']\n",
    "    \n",
    "    temp = temp.loc[temp.user_ratings == 0]   \n",
    "    temp = temp.sort_values('user_predictions', ascending=False)\n",
    "    print('\\nBelow are the recommended items for user(user_id = {}):\\n'.format(userID))\n",
    "    print(temp.head(num_recommendations))"
   ]
  },
  {
   "cell_type": "code",
   "execution_count": 139,
   "metadata": {},
   "outputs": [
    {
     "name": "stdout",
     "output_type": "stream",
     "text": [
      "\n",
      "Below are the recommended items for user(user_id = 15):\n",
      "\n",
      "                   user_ratings  user_predictions\n",
      "Recommended Items                                \n",
      "B007WTAJTO                  0.0          0.335415\n",
      "B000QUUFRW                  0.0          0.281862\n",
      "B002WE6D44                  0.0          0.228786\n",
      "B00004ZCJE                  0.0          0.193438\n",
      "B001XURP7W                  0.0          0.170882\n"
     ]
    },
    {
     "name": "stderr",
     "output_type": "stream",
     "text": [
      "/anaconda3/lib/python3.7/site-packages/ipykernel_launcher.py:13: FutureWarning: Sorting because non-concatenation axis is not aligned. A future version\n",
      "of pandas will change to not sort by default.\n",
      "\n",
      "To accept the future behavior, pass 'sort=False'.\n",
      "\n",
      "To retain the current behavior and silence the warning, pass 'sort=True'.\n",
      "\n",
      "  del sys.path[0]\n"
     ]
    }
   ],
   "source": [
    "userID = 15\n",
    "num_recommendations = 5\n",
    "recommend_items(userID, pivot_df_rs, preds_df_rs, num_recommendations)"
   ]
  },
  {
   "cell_type": "code",
   "execution_count": 140,
   "metadata": {},
   "outputs": [
    {
     "name": "stdout",
     "output_type": "stream",
     "text": [
      "\n",
      "Below are the recommended items for user(user_id = 200):\n",
      "\n",
      "                   user_ratings  user_predictions\n",
      "Recommended Items                                \n",
      "B008X9Z8NE                  0.0          1.141688\n",
      "B0079UAT0A                  0.0          1.101302\n",
      "B008X9Z528                  0.0          1.072300\n",
      "B004CLYEFK                  0.0          1.025798\n",
      "B008X9Z7N0                  0.0          1.002051\n"
     ]
    },
    {
     "name": "stderr",
     "output_type": "stream",
     "text": [
      "/anaconda3/lib/python3.7/site-packages/ipykernel_launcher.py:13: FutureWarning: Sorting because non-concatenation axis is not aligned. A future version\n",
      "of pandas will change to not sort by default.\n",
      "\n",
      "To accept the future behavior, pass 'sort=False'.\n",
      "\n",
      "To retain the current behavior and silence the warning, pass 'sort=True'.\n",
      "\n",
      "  del sys.path[0]\n"
     ]
    }
   ],
   "source": [
    "userID = 200\n",
    "num_recommendations = 5\n",
    "recommend_items(userID, pivot_df_rs, preds_df_rs, num_recommendations)"
   ]
  },
  {
   "cell_type": "code",
   "execution_count": 141,
   "metadata": {},
   "outputs": [
    {
     "name": "stdout",
     "output_type": "stream",
     "text": [
      "\n",
      "Below are the recommended items for user(user_id = 875):\n",
      "\n",
      "                   user_ratings  user_predictions\n",
      "Recommended Items                                \n",
      "B00829TIEK                  0.0          1.916547\n",
      "B008DWCRQW                  0.0          0.742147\n",
      "B00BOHNYTW                  0.0          0.709025\n",
      "B009NHWVIA                  0.0          0.690975\n",
      "B0097CXWUW                  0.0          0.678937\n"
     ]
    },
    {
     "name": "stderr",
     "output_type": "stream",
     "text": [
      "/anaconda3/lib/python3.7/site-packages/ipykernel_launcher.py:13: FutureWarning: Sorting because non-concatenation axis is not aligned. A future version\n",
      "of pandas will change to not sort by default.\n",
      "\n",
      "To accept the future behavior, pass 'sort=False'.\n",
      "\n",
      "To retain the current behavior and silence the warning, pass 'sort=True'.\n",
      "\n",
      "  del sys.path[0]\n"
     ]
    }
   ],
   "source": [
    "userID = 875\n",
    "num_recommendations = 5\n",
    "recommend_items(userID, pivot_df_rs, preds_df_rs, num_recommendations)"
   ]
  },
  {
   "cell_type": "markdown",
   "metadata": {},
   "source": [
    "# Evaluate the above model"
   ]
  },
  {
   "cell_type": "code",
   "execution_count": 145,
   "metadata": {},
   "outputs": [
    {
     "name": "stdout",
     "output_type": "stream",
     "text": [
      "Shape of final_ratings_matrix:  (1540, 48190)\n",
      "given_num_of_ratings =  125871\n",
      "possible_num_of_ratings =  74212600\n",
      "density: 0.17%\n"
     ]
    }
   ],
   "source": [
    "final_ratings_matrix_rs = amazon_users_50_ratings_df.pivot(index = 'UserId', columns ='ProductId', values = 'Ratings').fillna(0)\n",
    "print('Shape of final_ratings_matrix: ', final_ratings_matrix_rs.shape)\n",
    "\n",
    "given_num_of_ratings = np.count_nonzero(final_ratings_matrix_rs)\n",
    "print('given_num_of_ratings = ', given_num_of_ratings)\n",
    "possible_num_of_ratings = final_ratings_matrix_rs.shape[0] * final_ratings_matrix_rs.shape[1]\n",
    "print('possible_num_of_ratings = ', possible_num_of_ratings)\n",
    "density = (given_num_of_ratings/possible_num_of_ratings)\n",
    "density *= 100\n",
    "print ('density: {:4.2f}%'.format(density))"
   ]
  },
  {
   "cell_type": "code",
   "execution_count": 147,
   "metadata": {},
   "outputs": [
    {
     "data": {
      "text/plain": [
       "ProductId\n",
       "0594451647    0.003247\n",
       "0594481813    0.001948\n",
       "0970407998    0.003247\n",
       "0972683275    0.012338\n",
       "1400501466    0.012987\n",
       "dtype: float64"
      ]
     },
     "execution_count": 147,
     "metadata": {},
     "output_type": "execute_result"
    }
   ],
   "source": [
    "final_ratings_matrix_rs.mean().head()"
   ]
  },
  {
   "cell_type": "code",
   "execution_count": 148,
   "metadata": {},
   "outputs": [
    {
     "data": {
      "text/html": [
       "<div>\n",
       "<style scoped>\n",
       "    .dataframe tbody tr th:only-of-type {\n",
       "        vertical-align: middle;\n",
       "    }\n",
       "\n",
       "    .dataframe tbody tr th {\n",
       "        vertical-align: top;\n",
       "    }\n",
       "\n",
       "    .dataframe thead th {\n",
       "        text-align: right;\n",
       "    }\n",
       "</style>\n",
       "<table border=\"1\" class=\"dataframe\">\n",
       "  <thead>\n",
       "    <tr style=\"text-align: right;\">\n",
       "      <th>ProductId</th>\n",
       "      <th>0594451647</th>\n",
       "      <th>0594481813</th>\n",
       "      <th>0970407998</th>\n",
       "      <th>0972683275</th>\n",
       "      <th>1400501466</th>\n",
       "      <th>1400501520</th>\n",
       "      <th>1400501776</th>\n",
       "      <th>1400532620</th>\n",
       "      <th>1400532655</th>\n",
       "      <th>140053271X</th>\n",
       "      <th>...</th>\n",
       "      <th>B00L5YZCCG</th>\n",
       "      <th>B00L8I6SFY</th>\n",
       "      <th>B00L8QCVL6</th>\n",
       "      <th>B00LA6T0LS</th>\n",
       "      <th>B00LBZ1Z7K</th>\n",
       "      <th>B00LED02VY</th>\n",
       "      <th>B00LGN7Y3G</th>\n",
       "      <th>B00LGQ6HL8</th>\n",
       "      <th>B00LI4ZZO8</th>\n",
       "      <th>B00LKG1MC8</th>\n",
       "    </tr>\n",
       "  </thead>\n",
       "  <tbody>\n",
       "    <tr>\n",
       "      <th>0</th>\n",
       "      <td>0.005086</td>\n",
       "      <td>0.002178</td>\n",
       "      <td>0.003668</td>\n",
       "      <td>-0.040843</td>\n",
       "      <td>0.009640</td>\n",
       "      <td>0.006808</td>\n",
       "      <td>0.020659</td>\n",
       "      <td>0.000649</td>\n",
       "      <td>0.020331</td>\n",
       "      <td>0.005633</td>\n",
       "      <td>...</td>\n",
       "      <td>0.000238</td>\n",
       "      <td>-0.061477</td>\n",
       "      <td>0.001214</td>\n",
       "      <td>-0.123433</td>\n",
       "      <td>0.028490</td>\n",
       "      <td>0.016109</td>\n",
       "      <td>0.002855</td>\n",
       "      <td>-0.174568</td>\n",
       "      <td>0.011367</td>\n",
       "      <td>-0.012997</td>\n",
       "    </tr>\n",
       "    <tr>\n",
       "      <th>1</th>\n",
       "      <td>0.002286</td>\n",
       "      <td>-0.010898</td>\n",
       "      <td>-0.000724</td>\n",
       "      <td>0.130259</td>\n",
       "      <td>0.007506</td>\n",
       "      <td>-0.003350</td>\n",
       "      <td>0.063711</td>\n",
       "      <td>-0.000674</td>\n",
       "      <td>0.016111</td>\n",
       "      <td>-0.002433</td>\n",
       "      <td>...</td>\n",
       "      <td>-0.000038</td>\n",
       "      <td>0.013766</td>\n",
       "      <td>0.001473</td>\n",
       "      <td>0.025588</td>\n",
       "      <td>-0.042103</td>\n",
       "      <td>0.004251</td>\n",
       "      <td>0.002177</td>\n",
       "      <td>-0.024362</td>\n",
       "      <td>-0.014765</td>\n",
       "      <td>0.038570</td>\n",
       "    </tr>\n",
       "    <tr>\n",
       "      <th>2</th>\n",
       "      <td>-0.001655</td>\n",
       "      <td>-0.002675</td>\n",
       "      <td>-0.007355</td>\n",
       "      <td>0.007264</td>\n",
       "      <td>0.005152</td>\n",
       "      <td>-0.003986</td>\n",
       "      <td>-0.003480</td>\n",
       "      <td>0.006961</td>\n",
       "      <td>-0.006606</td>\n",
       "      <td>-0.002719</td>\n",
       "      <td>...</td>\n",
       "      <td>-0.001708</td>\n",
       "      <td>-0.051040</td>\n",
       "      <td>0.000325</td>\n",
       "      <td>-0.054867</td>\n",
       "      <td>0.017870</td>\n",
       "      <td>-0.004996</td>\n",
       "      <td>-0.002426</td>\n",
       "      <td>0.083928</td>\n",
       "      <td>-0.112205</td>\n",
       "      <td>0.005964</td>\n",
       "    </tr>\n",
       "    <tr>\n",
       "      <th>3</th>\n",
       "      <td>0.001856</td>\n",
       "      <td>0.011019</td>\n",
       "      <td>-0.005910</td>\n",
       "      <td>-0.014134</td>\n",
       "      <td>0.000179</td>\n",
       "      <td>0.001877</td>\n",
       "      <td>-0.005391</td>\n",
       "      <td>-0.001709</td>\n",
       "      <td>0.004968</td>\n",
       "      <td>0.001402</td>\n",
       "      <td>...</td>\n",
       "      <td>0.000582</td>\n",
       "      <td>-0.009326</td>\n",
       "      <td>-0.000465</td>\n",
       "      <td>-0.048315</td>\n",
       "      <td>0.023302</td>\n",
       "      <td>0.006790</td>\n",
       "      <td>0.003380</td>\n",
       "      <td>0.005460</td>\n",
       "      <td>-0.015263</td>\n",
       "      <td>-0.025996</td>\n",
       "    </tr>\n",
       "    <tr>\n",
       "      <th>4</th>\n",
       "      <td>0.001115</td>\n",
       "      <td>-0.002670</td>\n",
       "      <td>0.011018</td>\n",
       "      <td>0.014434</td>\n",
       "      <td>0.010319</td>\n",
       "      <td>0.006002</td>\n",
       "      <td>0.017151</td>\n",
       "      <td>0.003726</td>\n",
       "      <td>0.001404</td>\n",
       "      <td>0.005645</td>\n",
       "      <td>...</td>\n",
       "      <td>0.000207</td>\n",
       "      <td>0.023761</td>\n",
       "      <td>0.000747</td>\n",
       "      <td>-0.019347</td>\n",
       "      <td>-0.012749</td>\n",
       "      <td>0.001026</td>\n",
       "      <td>0.001364</td>\n",
       "      <td>-0.020580</td>\n",
       "      <td>0.011828</td>\n",
       "      <td>0.012770</td>\n",
       "    </tr>\n",
       "  </tbody>\n",
       "</table>\n",
       "<p>5 rows × 48190 columns</p>\n",
       "</div>"
      ],
      "text/plain": [
       "ProductId  0594451647  0594481813  0970407998  0972683275  1400501466  \\\n",
       "0            0.005086    0.002178    0.003668   -0.040843    0.009640   \n",
       "1            0.002286   -0.010898   -0.000724    0.130259    0.007506   \n",
       "2           -0.001655   -0.002675   -0.007355    0.007264    0.005152   \n",
       "3            0.001856    0.011019   -0.005910   -0.014134    0.000179   \n",
       "4            0.001115   -0.002670    0.011018    0.014434    0.010319   \n",
       "\n",
       "ProductId  1400501520  1400501776  1400532620  1400532655  140053271X  ...  \\\n",
       "0            0.006808    0.020659    0.000649    0.020331    0.005633  ...   \n",
       "1           -0.003350    0.063711   -0.000674    0.016111   -0.002433  ...   \n",
       "2           -0.003986   -0.003480    0.006961   -0.006606   -0.002719  ...   \n",
       "3            0.001877   -0.005391   -0.001709    0.004968    0.001402  ...   \n",
       "4            0.006002    0.017151    0.003726    0.001404    0.005645  ...   \n",
       "\n",
       "ProductId  B00L5YZCCG  B00L8I6SFY  B00L8QCVL6  B00LA6T0LS  B00LBZ1Z7K  \\\n",
       "0            0.000238   -0.061477    0.001214   -0.123433    0.028490   \n",
       "1           -0.000038    0.013766    0.001473    0.025588   -0.042103   \n",
       "2           -0.001708   -0.051040    0.000325   -0.054867    0.017870   \n",
       "3            0.000582   -0.009326   -0.000465   -0.048315    0.023302   \n",
       "4            0.000207    0.023761    0.000747   -0.019347   -0.012749   \n",
       "\n",
       "ProductId  B00LED02VY  B00LGN7Y3G  B00LGQ6HL8  B00LI4ZZO8  B00LKG1MC8  \n",
       "0            0.016109    0.002855   -0.174568    0.011367   -0.012997  \n",
       "1            0.004251    0.002177   -0.024362   -0.014765    0.038570  \n",
       "2           -0.004996   -0.002426    0.083928   -0.112205    0.005964  \n",
       "3            0.006790    0.003380    0.005460   -0.015263   -0.025996  \n",
       "4            0.001026    0.001364   -0.020580    0.011828    0.012770  \n",
       "\n",
       "[5 rows x 48190 columns]"
      ]
     },
     "execution_count": 148,
     "metadata": {},
     "output_type": "execute_result"
    }
   ],
   "source": [
    "preds_df_rs.head()"
   ]
  },
  {
   "cell_type": "code",
   "execution_count": 149,
   "metadata": {},
   "outputs": [
    {
     "name": "stdout",
     "output_type": "stream",
     "text": [
      "(48190, 2)\n"
     ]
    },
    {
     "data": {
      "text/html": [
       "<div>\n",
       "<style scoped>\n",
       "    .dataframe tbody tr th:only-of-type {\n",
       "        vertical-align: middle;\n",
       "    }\n",
       "\n",
       "    .dataframe tbody tr th {\n",
       "        vertical-align: top;\n",
       "    }\n",
       "\n",
       "    .dataframe thead th {\n",
       "        text-align: right;\n",
       "    }\n",
       "</style>\n",
       "<table border=\"1\" class=\"dataframe\">\n",
       "  <thead>\n",
       "    <tr style=\"text-align: right;\">\n",
       "      <th></th>\n",
       "      <th>Avg_actual_ratings</th>\n",
       "      <th>Avg_predicted_ratings</th>\n",
       "      <th>item_index</th>\n",
       "    </tr>\n",
       "    <tr>\n",
       "      <th>ProductId</th>\n",
       "      <th></th>\n",
       "      <th></th>\n",
       "      <th></th>\n",
       "    </tr>\n",
       "  </thead>\n",
       "  <tbody>\n",
       "    <tr>\n",
       "      <th>0594451647</th>\n",
       "      <td>0.003247</td>\n",
       "      <td>0.001953</td>\n",
       "      <td>0</td>\n",
       "    </tr>\n",
       "    <tr>\n",
       "      <th>0594481813</th>\n",
       "      <td>0.001948</td>\n",
       "      <td>0.002875</td>\n",
       "      <td>1</td>\n",
       "    </tr>\n",
       "    <tr>\n",
       "      <th>0970407998</th>\n",
       "      <td>0.003247</td>\n",
       "      <td>0.003355</td>\n",
       "      <td>2</td>\n",
       "    </tr>\n",
       "    <tr>\n",
       "      <th>0972683275</th>\n",
       "      <td>0.012338</td>\n",
       "      <td>0.010343</td>\n",
       "      <td>3</td>\n",
       "    </tr>\n",
       "    <tr>\n",
       "      <th>1400501466</th>\n",
       "      <td>0.012987</td>\n",
       "      <td>0.004871</td>\n",
       "      <td>4</td>\n",
       "    </tr>\n",
       "  </tbody>\n",
       "</table>\n",
       "</div>"
      ],
      "text/plain": [
       "            Avg_actual_ratings  Avg_predicted_ratings  item_index\n",
       "ProductId                                                        \n",
       "0594451647            0.003247               0.001953           0\n",
       "0594481813            0.001948               0.002875           1\n",
       "0970407998            0.003247               0.003355           2\n",
       "0972683275            0.012338               0.010343           3\n",
       "1400501466            0.012987               0.004871           4"
      ]
     },
     "execution_count": 149,
     "metadata": {},
     "output_type": "execute_result"
    }
   ],
   "source": [
    "rmse_df_rs = pd.concat([final_ratings_matrix_rs.mean(), preds_df_rs.mean()], axis=1)\n",
    "rmse_df_rs.columns = ['Avg_actual_ratings', 'Avg_predicted_ratings']\n",
    "print(rmse_df_rs.shape)\n",
    "rmse_df_rs['item_index'] = np.arange(0, rmse_df_rs.shape[0], 1)\n",
    "rmse_df_rs.head()"
   ]
  },
  {
   "cell_type": "code",
   "execution_count": 150,
   "metadata": {},
   "outputs": [
    {
     "name": "stdout",
     "output_type": "stream",
     "text": [
      "\n",
      "RMSE SVD Model = 0.00275 \n",
      "\n"
     ]
    }
   ],
   "source": [
    "RMSE = round((((rmse_df_rs.Avg_actual_ratings - rmse_df_rs.Avg_predicted_ratings) ** 2).mean() ** 0.5), 5)\n",
    "print('\\nRMSE SVD Model = {} \\n'.format(RMSE))"
   ]
  },
  {
   "cell_type": "markdown",
   "metadata": {},
   "source": [
    "# Get top - K ( K = 5) recommendations"
   ]
  },
  {
   "cell_type": "code",
   "execution_count": 153,
   "metadata": {},
   "outputs": [
    {
     "name": "stdout",
     "output_type": "stream",
     "text": [
      "\n",
      "Below are the recommended items for user(user_id = 875):\n",
      "\n",
      "                   user_ratings  user_predictions\n",
      "Recommended Items                                \n",
      "B00829TIEK                  0.0          1.916547\n",
      "B008DWCRQW                  0.0          0.742147\n",
      "B00BOHNYTW                  0.0          0.709025\n",
      "B009NHWVIA                  0.0          0.690975\n",
      "B0097CXWUW                  0.0          0.678937\n"
     ]
    },
    {
     "name": "stderr",
     "output_type": "stream",
     "text": [
      "/anaconda3/lib/python3.7/site-packages/ipykernel_launcher.py:13: FutureWarning: Sorting because non-concatenation axis is not aligned. A future version\n",
      "of pandas will change to not sort by default.\n",
      "\n",
      "To accept the future behavior, pass 'sort=False'.\n",
      "\n",
      "To retain the current behavior and silence the warning, pass 'sort=True'.\n",
      "\n",
      "  del sys.path[0]\n"
     ]
    }
   ],
   "source": [
    "userID = 875\n",
    "num_recommendations = 5\n",
    "recommend_items(userID, pivot_df_rs, preds_df_rs, num_recommendations)"
   ]
  },
  {
   "cell_type": "code",
   "execution_count": 154,
   "metadata": {},
   "outputs": [
    {
     "name": "stdout",
     "output_type": "stream",
     "text": [
      "\n",
      "Below are the recommended items for user(user_id = 420):\n",
      "\n",
      "                   user_ratings  user_predictions\n",
      "Recommended Items                                \n",
      "B007WTAJTO                  0.0          0.848944\n",
      "B001TH7GUU                  0.0          0.775751\n",
      "B005CT56F8                  0.0          0.739852\n",
      "B004G6002M                  0.0          0.523779\n",
      "B005FYNSPK                  0.0          0.492058\n"
     ]
    },
    {
     "name": "stderr",
     "output_type": "stream",
     "text": [
      "/anaconda3/lib/python3.7/site-packages/ipykernel_launcher.py:13: FutureWarning: Sorting because non-concatenation axis is not aligned. A future version\n",
      "of pandas will change to not sort by default.\n",
      "\n",
      "To accept the future behavior, pass 'sort=False'.\n",
      "\n",
      "To retain the current behavior and silence the warning, pass 'sort=True'.\n",
      "\n",
      "  del sys.path[0]\n"
     ]
    }
   ],
   "source": [
    "userID = 420\n",
    "num_recommendations = 5\n",
    "recommend_items(userID, pivot_df_rs, preds_df_rs, num_recommendations)"
   ]
  },
  {
   "cell_type": "markdown",
   "metadata": {},
   "source": [
    "# Summary"
   ]
  },
  {
   "cell_type": "markdown",
   "metadata": {},
   "source": [
    "\n",
    "\n",
    "Model-based Collaborative Filtering is a personalised recommender system, the recommendations are based on the past behavior of the user and it is not dependent on any additional information.\n",
    "\n",
    "The Popularity-based recommender system is non-personalised and the recommendations are based on frequecy counts, which may be not suitable to the user.You can see the differance above for the user id 875 & 420, The Popularity based model has recommended the same set of 5 products to both but Collaborative Filtering based model has recommended entire different list based on the user past purchase history\n",
    "\n",
    "\n",
    "Deep finding\n",
    "For the userId 420\n",
    "For the user A3TAS1AG6FMBQW, the 5 products recommended by the model are new products which are not already rated by the user. We will recommend these  5 products for the user -\n",
    "User Id = A3TAS1AG6FMBQW \n",
    "Product Ids ['B007WTAJTO', 'B001TH7GUU', 'B005CT56F8', 'B004G6002M', 'B00004Z6KW']"
   ]
  },
  {
   "cell_type": "code",
   "execution_count": null,
   "metadata": {},
   "outputs": [],
   "source": []
  }
 ],
 "metadata": {
  "kernelspec": {
   "display_name": "Python 3",
   "language": "python",
   "name": "python3"
  },
  "language_info": {
   "codemirror_mode": {
    "name": "ipython",
    "version": 3
   },
   "file_extension": ".py",
   "mimetype": "text/x-python",
   "name": "python",
   "nbconvert_exporter": "python",
   "pygments_lexer": "ipython3",
   "version": "3.7.3"
  }
 },
 "nbformat": 4,
 "nbformat_minor": 2
}
